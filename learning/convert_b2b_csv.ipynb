{
 "cells": [
  {
   "cell_type": "code",
   "execution_count": null,
   "id": "5b326b83",
   "metadata": {},
   "outputs": [
    {
     "name": "stdout",
     "output_type": "stream",
     "text": [
      "✅ Saved: c:\\YimingVirtualDDrive\\7_workSpace\\repo\\neural-fly\\Simulation\\data\\training\\training_back2back\\custom_random3_baseline_10wind_converted.csv\n",
      "✅ Saved: c:\\YimingVirtualDDrive\\7_workSpace\\repo\\neural-fly\\Simulation\\data\\training\\training_back2back\\custom_random3_baseline_20wind_converted.csv\n",
      "✅ Saved: c:\\YimingVirtualDDrive\\7_workSpace\\repo\\neural-fly\\Simulation\\data\\training\\training_back2back\\custom_random3_baseline_30wind_converted.csv\n",
      "✅ Saved: c:\\YimingVirtualDDrive\\7_workSpace\\repo\\neural-fly\\Simulation\\data\\training\\training_back2back\\custom_random3_baseline_40wind_converted.csv\n",
      "✅ Saved: c:\\YimingVirtualDDrive\\7_workSpace\\repo\\neural-fly\\Simulation\\data\\training\\training_back2back\\custom_random3_baseline_50wind_converted.csv\n",
      "✅ Saved: c:\\YimingVirtualDDrive\\7_workSpace\\repo\\neural-fly\\Simulation\\data\\training\\training_back2back\\custom_random3_baseline_nowind_converted.csv\n"
     ]
    }
   ],
   "source": [
    "import os\n",
    "import pandas as pd\n",
    "import numpy as np\n",
    "import ast\n",
    "\n",
    "def flatten_field(field_value):\n",
    "    \"\"\"Convert stringified list or nested list into flat list\"\"\"\n",
    "    try:\n",
    "        parsed = ast.literal_eval(field_value)\n",
    "        flat = np.array(parsed).flatten()\n",
    "        return flat\n",
    "    except (ValueError, SyntaxError):\n",
    "        return [field_value]\n",
    "\n",
    "def flatten_csv(input_path: str, output_path: str):\n",
    "    df = pd.read_csv(input_path)\n",
    "\n",
    "    flat_rows = []\n",
    "    for _, row in df.iterrows():\n",
    "        flat_row = {}\n",
    "        for col, val in row.items():\n",
    "            flat_vals = flatten_field(val)\n",
    "            for i, v in enumerate(flat_vals):\n",
    "                col_name = f\"{col}_{i}\" if len(flat_vals) > 1 else col\n",
    "                flat_row[col_name] = v\n",
    "        flat_rows.append(flat_row)\n",
    "\n",
    "    df_flat = pd.DataFrame(flat_rows)\n",
    "    df_flat.to_csv(output_path, index=False)\n",
    "    print(f\"Saved: {output_path}\")\n",
    "\n",
    "# === Prepare your file list ===\n",
    "current_dir = os.getcwd()\n",
    "subfolder = \"training_back2back\"\n",
    "folder_path = os.path.join(os.path.dirname(current_dir), \"data\", \"training\", subfolder)\n",
    "file_names = [f for f in os.listdir(folder_path) if os.path.isfile(os.path.join(folder_path, f))]\n",
    "file_names = [f for f in file_names if f.endswith('.csv')]\n",
    "\n",
    "data_list = [os.path.join(folder_path, f) for f in file_names]\n",
    "\n",
    "# === Batch process ===\n",
    "for input_file in data_list:\n",
    "    base, ext = os.path.splitext(input_file)\n",
    "    output_file = base + \"_converted.csv\"\n",
    "    flatten_csv(input_file, output_file)"
   ]
  }
 ],
 "metadata": {
  "kernelspec": {
   "display_name": "venv",
   "language": "python",
   "name": "python3"
  },
  "language_info": {
   "codemirror_mode": {
    "name": "ipython",
    "version": 3
   },
   "file_extension": ".py",
   "mimetype": "text/x-python",
   "name": "python",
   "nbconvert_exporter": "python",
   "pygments_lexer": "ipython3",
   "version": "3.10.11"
  }
 },
 "nbformat": 4,
 "nbformat_minor": 5
}
