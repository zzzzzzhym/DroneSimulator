{
 "cells": [
  {
   "cell_type": "markdown",
   "metadata": {},
   "source": [
    "The following example shows how to use the disturbance model `WindEffectNearWall`. "
   ]
  },
  {
   "cell_type": "code",
   "execution_count": 4,
   "metadata": {},
   "outputs": [
    {
     "name": "stdout",
     "output_type": "stream",
     "text": [
      "[PropellerLookupTable] Reading data from ..\\inflow_model\\lookup_table\\apc_8x6.yaml\n",
      "Elapsed time:  26.757591009140015\n",
      "Force:  [ 0.25039332  0.         -4.66752663]\n",
      "Torque:  [ 4.44089210e-16 -1.84933108e-02  0.00000000e+00]\n"
     ]
    }
   ],
   "source": [
    "import matplotlib.pyplot as plt\n",
    "import numpy as np\n",
    "import sys\n",
    "import os\n",
    "import time\n",
    "# Get the current directory of the notebook\n",
    "notebook_dir = os.getcwd()\n",
    "\n",
    "# Add the parent directory to sys.path\n",
    "parent_dir = os.path.abspath(os.path.join(notebook_dir, '..'))\n",
    "if parent_dir not in sys.path:\n",
    "    sys.path.append(parent_dir)\n",
    "    \n",
    "import disturbance_model as disturbance\n",
    "import dynamics_state as state\n",
    "import rotor\n",
    "import propeller\n",
    "import parameters as params\n",
    "\n",
    "plt.rcParams['figure.figsize'] = [15, 9]\n",
    "\n",
    "drone_state = state.State()\n",
    "rotor_instance = rotor.RotorSet(params.PennStateARILab550(), propeller.apc_8x6)\n",
    "instance = disturbance.WindEffectNearWall()\n",
    "t = 0.0\n",
    "instance.u_free = np.array([-3.0, 0.0, 0.0])\n",
    "force_control = np.array([0.0, 0.0, 40.0])  # [N] drone force input from controller\n",
    "torque_control = np.array([0.0, 0.0, 0.0])\n",
    "drone_state.omega = np.array([0.0, 0.0, 0.0])\n",
    "drone_state.v = np.array([-2, 0.0, 0.0])\n",
    "\n",
    "thrust = params.PennStateARILab550().m_wrench_to_thrust@np.hstack((force_control[2], torque_control))\n",
    "rotor_instance.step_rotor_states(drone_state, thrust)\n",
    "tik = time.time()\n",
    "for i in range(24000):\n",
    "    instance.update_explicit_wrench(t, drone_state, rotor_instance, force_control, torque_control)\n",
    "\n",
    "tok = time.time()\n",
    "print(\"Elapsed time: \", tok - tik)\n",
    "print(\"Force: \", instance.f_explicit)\n",
    "print(\"Torque: \", instance.t_explicit)\n",
    "\n",
    "plt.show()"
   ]
  }
 ],
 "metadata": {
  "kernelspec": {
   "display_name": "venv",
   "language": "python",
   "name": "python3"
  },
  "language_info": {
   "codemirror_mode": {
    "name": "ipython",
    "version": 3
   },
   "file_extension": ".py",
   "mimetype": "text/x-python",
   "name": "python",
   "nbconvert_exporter": "python",
   "pygments_lexer": "ipython3",
   "version": "3.10.11"
  }
 },
 "nbformat": 4,
 "nbformat_minor": 2
}
