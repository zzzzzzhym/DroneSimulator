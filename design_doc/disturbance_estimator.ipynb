{
 "cells": [
  {
   "cell_type": "code",
   "execution_count": 34,
   "metadata": {},
   "outputs": [
    {
     "name": "stdout",
     "output_type": "stream",
     "text": [
      "Lambda**2*q - Lambda*s + s_dot\n"
     ]
    },
    {
     "data": {
      "text/latex": [
       "$\\displaystyle - C q_{dot} + C q_{r dot} - K s - M q_{dot2} + M q_{r dot2} + d + f - \\phi a_{tilde}$"
      ],
      "text/plain": [
       "-C*q_dot + C*q_r_dot - K*s - M*q_dot2 + M*q_r_dot2 + d + f - phi*a_tilde"
      ]
     },
     "execution_count": 34,
     "metadata": {},
     "output_type": "execute_result"
    }
   ],
   "source": [
    "from sympy import MatrixSymbol, symbols, BlockMatrix, Matrix, Function, Eq, linsolve, simplify\n",
    "import sympy\n",
    "t = symbols('t')\n",
    "\n",
    "# Define the symbolic variable and symbolic matrices\n",
    "n_dof = symbols('n', integer=True, positive=True)\n",
    "m_kernel = symbols('m', integer=True, positive=True)\n",
    "\n",
    "q = MatrixSymbol('q', n_dof, 1)\n",
    "q_dot = MatrixSymbol('q_dot', n_dof, 1)\n",
    "q_dot2 = MatrixSymbol('q_dot2', n_dof, 1)\n",
    "\n",
    "# accoridng to eqn(10) q_r does not need to exist\n",
    "# q_r_dot = q_d_dot - Lambda*(q - q_d), treat this as a 2 loop control\n",
    "q_d = MatrixSymbol('q_d', n_dof, 1)\n",
    "q_r_dot = MatrixSymbol('q_r_dot', n_dof, 1)\n",
    "q_r_dot2 = MatrixSymbol('q_r_dot2', n_dof, 1)\n",
    "\n",
    "M = MatrixSymbol('M', n_dof, n_dof)  # symmetric, positive definite inertia matrix\n",
    "C = MatrixSymbol('C', n_dof, n_dof)  # Coriolis matrix\n",
    "g = MatrixSymbol('g', n_dof, 1)  # the gravitational force vector\n",
    "\n",
    "f_disturb = MatrixSymbol('f', n_dof, 1)  # the disturbance force vector\n",
    "u = MatrixSymbol('u', n_dof, 1)  # the control force vector\n",
    "\n",
    "Lambda = MatrixSymbol('Lambda', n_dof, n_dof)  \n",
    "\n",
    "int_s = MatrixSymbol('int_s', n_dof, 1) # integral of s\n",
    "s = MatrixSymbol('s', n_dof, 1)\n",
    "s_dot = MatrixSymbol('s_dot', n_dof, 1)\n",
    "# s_def_eqn = Eq(s, q_dot + Lambda*q)\n",
    "# s_dot_def_eqn = Eq(s_dot, q_dot2 + Lambda*q_dot)\n",
    "# this gives\n",
    "q_dot_of_s = s - Lambda*q\n",
    "q_dot2_of_s = s_dot - Lambda*q_dot_of_s\n",
    "print(q_dot2_of_s.expand())\n",
    "\n",
    "K = MatrixSymbol('K', n_dof, n_dof)  \n",
    "K_I = MatrixSymbol('K_I', n_dof, n_dof)  \n",
    "\n",
    "phi = MatrixSymbol('phi', n_dof, m_kernel)\n",
    "a_tilde = MatrixSymbol('a_tilde', m_kernel, 1)\n",
    "d = MatrixSymbol('d', n_dof, 1)\n",
    "\n",
    "u = M*q_r_dot2 + C*q_r_dot + g - K*s - phi*a_tilde + d\n",
    "\n",
    "dynamic_eqn = Eq(M*q_dot2 + C*q_dot + g, (f_disturb + u))\n",
    "simplify(dynamic_eqn.rhs - dynamic_eqn.lhs)"
   ]
  },
  {
   "cell_type": "code",
   "execution_count": 58,
   "metadata": {},
   "outputs": [
    {
     "name": "stdout",
     "output_type": "stream",
     "text": [
      "Equation (22):\n",
      "False\n",
      "\n",
      "Equation (23):\n",
      "False\n"
     ]
    }
   ],
   "source": [
    "from sympy import symbols, Function, Matrix, MatrixSymbol, Inverse, Transpose, Derivative, Eq\n",
    "\n",
    "# Define time variable\n",
    "t = symbols('t')\n",
    "\n",
    "# Define scalar symbols\n",
    "lambda_ = symbols('lambda')\n",
    "epsilon = symbols('epsilon')\n",
    "\n",
    "# Define matrices and matrix functions\n",
    "n = symbols('n', integer=True, positive=True)\n",
    "m = symbols('m', integer=True, positive=True)\n",
    "M = MatrixSymbol('M', n, n)\n",
    "P = MatrixSymbol('P', m, m)\n",
    "C = MatrixSymbol('C', n, n)\n",
    "K = MatrixSymbol('K', n, n)\n",
    "phi = MatrixSymbol('phi', n, m)\n",
    "R = MatrixSymbol('R', n, n) # measurement noise covariance matrix\n",
    "Q = MatrixSymbol('Q', m, m) # process noise covariance matrix\n",
    "\n",
    "# Define vector functions\n",
    "s = MatrixSymbol('s', n, 1)\n",
    "s_dot = MatrixSymbol('s_dot', n, 1)\n",
    "a_tilde = MatrixSymbol('a_tilde', m, 1)\n",
    "a_tilde_dot = MatrixSymbol('a_tilde_dot', m, 1)\n",
    "a = MatrixSymbol('a', m, 1)\n",
    "a_dot = MatrixSymbol('a_dot', m, 1)\n",
    "\n",
    "# Define inverse matrices\n",
    "P_inv = Inverse(P)\n",
    "R_inv = Inverse(R)\n",
    "\n",
    "# Define matrix blocks for equation (22)\n",
    "mat1 = Matrix([[M, 0], [0, P_inv]])\n",
    "vec1 = Matrix([[s_dot], [a_tilde]])\n",
    "\n",
    "mat2 = Matrix([[C + K, phi], [-Transpose(phi), Transpose(phi) * R_inv * phi + lambda_ * P_inv]])\n",
    "vec2 = Matrix([[s], [a_tilde]])\n",
    "\n",
    "rhs = Matrix([[Transpose(phi) * R_inv * epsilon - P_inv * lambda_ * a - P_inv * a_dot]])\n",
    "\n",
    "# Define Equation (22)\n",
    "eqn_22 = Eq(mat1 * vec1 + mat2 * vec2, rhs)\n",
    "\n",
    "# Equation (23)\n",
    "P_dot = MatrixSymbol('P_dot', n, n)\n",
    "\n",
    "lhs_23 = Derivative(P_inv, t)\n",
    "rhs_23 = -P_inv * P_dot * P_inv\n",
    "rhs_23_simplified = P_inv * (2 * lambda_ * P - Q + P * Transpose(phi) * R_inv * phi * P) * P_inv\n",
    "\n",
    "eqn_23 = Eq(lhs_23, rhs_23_simplified)\n",
    "\n",
    "# Print the equations\n",
    "print(\"Equation (22):\")\n",
    "print(eqn_22)\n",
    "\n",
    "print(\"\\nEquation (23):\")\n",
    "print(eqn_23)\n"
   ]
  },
  {
   "cell_type": "code",
   "execution_count": 57,
   "metadata": {},
   "outputs": [
    {
     "data": {
      "text/plain": [
       "(1, 1)"
      ]
     },
     "execution_count": 57,
     "metadata": {},
     "output_type": "execute_result"
    }
   ],
   "source": [
    "rhs.shape"
   ]
  }
 ],
 "metadata": {
  "kernelspec": {
   "display_name": "venv",
   "language": "python",
   "name": "python3"
  },
  "language_info": {
   "codemirror_mode": {
    "name": "ipython",
    "version": 3
   },
   "file_extension": ".py",
   "mimetype": "text/x-python",
   "name": "python",
   "nbconvert_exporter": "python",
   "pygments_lexer": "ipython3",
   "version": "3.10.11"
  }
 },
 "nbformat": 4,
 "nbformat_minor": 2
}
